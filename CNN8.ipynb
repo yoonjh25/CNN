{
 "cells": [
  {
   "cell_type": "code",
   "execution_count": 1,
   "id": "52e80944",
   "metadata": {},
   "outputs": [
    {
     "name": "stderr",
     "output_type": "stream",
     "text": [
      "2024-12-02 06:22:13.490957: I tensorflow/core/platform/cpu_feature_guard.cc:194] This TensorFlow binary is optimized with oneAPI Deep Neural Network Library (oneDNN) to use the following CPU instructions in performance-critical operations:  SSE3 SSE4.1 SSE4.2 AVX\n",
      "To enable them in other operations, rebuild TensorFlow with the appropriate compiler flags.\n",
      "2024-12-02 06:22:13.669218: I tensorflow/core/util/port.cc:104] oneDNN custom operations are on. You may see slightly different numerical results due to floating-point round-off errors from different computation orders. To turn them off, set the environment variable `TF_ENABLE_ONEDNN_OPTS=0`.\n",
      "/usr/local/lib/python3.8/dist-packages/pandas/core/computation/expressions.py:20: UserWarning: Pandas requires version '2.7.3' or newer of 'numexpr' (version '2.7.0' currently installed).\n",
      "  from pandas.core.computation.check import NUMEXPR_INSTALLED\n"
     ]
    },
    {
     "name": "stdout",
     "output_type": "stream",
     "text": [
      "Available GPUs: [PhysicalDevice(name='/physical_device:GPU:0', device_type='GPU')]\n"
     ]
    }
   ],
   "source": [
    "import tensorflow as tf\n",
    "print(\"Available GPUs:\", tf.config.list_physical_devices('GPU'))\n",
    "\n",
    "tf.debugging.set_log_device_placement(True)\n"
   ]
  },
  {
   "cell_type": "code",
   "execution_count": 11,
   "id": "146a9680",
   "metadata": {},
   "outputs": [
    {
     "name": "stdout",
     "output_type": "stream",
     "text": [
      "Total number of images: 14577\n"
     ]
    }
   ],
   "source": [
    "# 총 이미지 개수 출력\n",
    "print(f\"Total number of images: {len(image_paths)}\")\n"
   ]
  },
  {
   "cell_type": "code",
   "execution_count": 1,
   "id": "358e25e6",
   "metadata": {},
   "outputs": [
    {
     "name": "stderr",
     "output_type": "stream",
     "text": [
      "2024-12-02 06:27:24.533181: I tensorflow/core/platform/cpu_feature_guard.cc:194] This TensorFlow binary is optimized with oneAPI Deep Neural Network Library (oneDNN) to use the following CPU instructions in performance-critical operations:  SSE3 SSE4.1 SSE4.2 AVX\n",
      "To enable them in other operations, rebuild TensorFlow with the appropriate compiler flags.\n",
      "2024-12-02 06:27:24.728085: I tensorflow/core/util/port.cc:104] oneDNN custom operations are on. You may see slightly different numerical results due to floating-point round-off errors from different computation orders. To turn them off, set the environment variable `TF_ENABLE_ONEDNN_OPTS=0`.\n",
      "/usr/local/lib/python3.8/dist-packages/pandas/core/computation/expressions.py:20: UserWarning: Pandas requires version '2.7.3' or newer of 'numexpr' (version '2.7.0' currently installed).\n",
      "  from pandas.core.computation.check import NUMEXPR_INSTALLED\n"
     ]
    }
   ],
   "source": [
    "import numpy as np\n",
    "import tensorflow as tf\n",
    "from sklearn.model_selection import train_test_split\n",
    "import os\n",
    "# 1. 이미지 경로 및 레이블 리스트 생성\n",
    "base_dir_original = 'Training'  # 데이터가 저장된 기본 경로\n",
    "image_paths = []\n",
    "labels = []\n",
    "\n",
    "for folder_name in os.listdir(base_dir_original):\n",
    "    folder_path = os.path.join(base_dir_original, folder_name)\n",
    "    if os.path.isdir(folder_path):\n",
    "        # 레이블 추출: 폴더 이름에서 정보 파싱\n",
    "        label = folder_name.split(']')[-1].split('_')[0]\n",
    "        for image_name in os.listdir(folder_path):\n",
    "            image_path = os.path.join(folder_path, image_name)\n",
    "            if image_path.endswith(('.png', '.jpg', '.jpeg')):\n",
    "                image_paths.append(image_path)\n",
    "                labels.append(label)\n",
    "\n",
    "\n",
    "# # 2. 이미지 데이터 로드 및 정규화\n",
    "# # 최대 크기를 기반으로 이미지 크기를 맞추고 정규화\n",
    "# max_height, max_width = 300, 300\n",
    "# images = np.array([\n",
    "#     tf.image.resize_with_pad(\n",
    "#         tf.image.decode_image(tf.io.read_file(img_path), channels=3),\n",
    "#         target_height=max_height,\n",
    "#         target_width=max_width\n",
    "#     ).numpy() / 255.0 for img_path in image_paths\n",
    "# ])\n",
    "\n",
    "unique_labels = sorted(set(labels))\n",
    "label_to_index = {label: idx for idx, label in enumerate(unique_labels)}\n",
    "labels = [label_to_index[label] for label in labels]"
   ]
  },
  {
   "cell_type": "code",
   "execution_count": 2,
   "id": "35d570c1",
   "metadata": {},
   "outputs": [],
   "source": [
    "# train-test split\n",
    "train_paths, test_paths, train_labels, test_labels = train_test_split(\n",
    "    image_paths, labels, test_size=0.2, random_state=42\n",
    ")\n",
    "\n",
    "# 3. 이미지 로드 및 전처리 함수 정의\n",
    "def preprocess_image(image_path, label, target_height=500, target_width=500):\n",
    "    # 이미지 읽기\n",
    "    image = tf.io.read_file(image_path)\n",
    "    # 이미지 디코딩 및 리사이징\n",
    "    image = tf.image.decode_image(image, channels=3)\n",
    "    image = tf.image.resize_with_pad(image, target_height, target_width)\n",
    "    # 픽셀 값을 0~1로 정규화\n",
    "    image = image / 255.0\n",
    "    return image, label\n",
    "\n",
    "# 4. TensorFlow 데이터 파이프라인 생성\n",
    "def create_dataset(image_paths, labels, batch_size=8, buffer_size=1000, target_height=500, target_width=500):\n",
    "    dataset = tf.data.Dataset.from_tensor_slices((image_paths, labels))\n",
    "    dataset = dataset.map(\n",
    "        lambda path, label: preprocess_image(path, label, target_height, target_width),\n",
    "        num_parallel_calls=tf.data.AUTOTUNE\n",
    "    )\n",
    "    dataset = dataset.shuffle(buffer_size=buffer_size)  # 버퍼 크기 설정\n",
    "    dataset = dataset.batch(batch_size).prefetch(buffer_size=tf.data.AUTOTUNE)\n",
    "    return dataset\n",
    "\n",
    "\n"
   ]
  },
  {
   "cell_type": "code",
   "execution_count": 3,
   "id": "7a738274",
   "metadata": {},
   "outputs": [
    {
     "name": "stdout",
     "output_type": "stream",
     "text": [
      "WARNING:tensorflow:From /usr/local/lib/python3.8/dist-packages/tensorflow/python/autograph/pyct/static_analysis/liveness.py:83: Analyzer.lamba_check (from tensorflow.python.autograph.pyct.static_analysis.liveness) is deprecated and will be removed after 2023-09-23.\n",
      "Instructions for updating:\n",
      "Lambda fuctions will be no more assumed to be used in the statement where they are used, or at least in the same block. https://github.com/tensorflow/tensorflow/issues/56089\n"
     ]
    },
    {
     "name": "stderr",
     "output_type": "stream",
     "text": [
      "2024-12-02 06:27:28.009381: I tensorflow/core/platform/cpu_feature_guard.cc:194] This TensorFlow binary is optimized with oneAPI Deep Neural Network Library (oneDNN) to use the following CPU instructions in performance-critical operations:  SSE3 SSE4.1 SSE4.2 AVX\n",
      "To enable them in other operations, rebuild TensorFlow with the appropriate compiler flags.\n",
      "2024-12-02 06:27:28.201790: I tensorflow/core/common_runtime/gpu/gpu_device.cc:1621] Created device /job:localhost/replica:0/task:0/device:GPU:0 with 38275 MB memory:  -> device: 0, name: CUDA GPU, pci bus id: 0000:e3:00.0, compute capability: 8.0\n"
     ]
    }
   ],
   "source": [
    "batch_size = 8\n",
    "buffer_size = 1000  # 셔플 버퍼 크기 줄이기\n",
    "\n",
    "train_dataset = create_dataset(train_paths, train_labels, batch_size=batch_size, buffer_size=buffer_size)\n",
    "test_dataset = create_dataset(test_paths, test_labels, batch_size=batch_size, buffer_size=buffer_size)\n"
   ]
  },
  {
   "cell_type": "code",
   "execution_count": 4,
   "id": "edb5b18f",
   "metadata": {},
   "outputs": [],
   "source": [
    "from tensorflow.keras.models import Sequential\n",
    "from tensorflow.keras.layers import Conv2D, MaxPooling2D, Flatten, Dense, Dropout\n",
    "\n",
    "\n",
    "model9 = tf.keras.Sequential([\n",
    "    tf.keras.layers.Input(shape=(500, 500, 3)),\n",
    "    tf.keras.layers.Conv2D(16, (3, 3), activation='relu'),  # 필터 수 감소\n",
    "    tf.keras.layers.MaxPooling2D(pool_size=(2, 2)),\n",
    "    tf.keras.layers.Conv2D(32, (3, 3), activation='relu'),\n",
    "    tf.keras.layers.MaxPooling2D(pool_size=(2, 2)),\n",
    "    tf.keras.layers.Conv2D(64, (3, 3), activation='relu'),\n",
    "    tf.keras.layers.MaxPooling2D(pool_size=(2, 2)),\n",
    "    tf.keras.layers.Conv2D(128, (3, 3), activation='relu'),\n",
    "    tf.keras.layers.Flatten(),\n",
    "    tf.keras.layers.Dense(64, activation='relu'),  # 뉴런 수 감소\n",
    "    tf.keras.layers.Dropout(0.5),  # 드롭아웃 추가\n",
    "    tf.keras.layers.Dense(7, activation='softmax'),\n",
    "])\n",
    "\n",
    "\n"
   ]
  },
  {
   "cell_type": "code",
   "execution_count": 5,
   "id": "73dfc463",
   "metadata": {},
   "outputs": [
    {
     "name": "stdout",
     "output_type": "stream",
     "text": [
      "Model: \"sequential\"\n",
      "_________________________________________________________________\n",
      " Layer (type)                Output Shape              Param #   \n",
      "=================================================================\n",
      " conv2d (Conv2D)             (None, 498, 498, 16)      448       \n",
      "                                                                 \n",
      " max_pooling2d (MaxPooling2D  (None, 249, 249, 16)     0         \n",
      " )                                                               \n",
      "                                                                 \n",
      " conv2d_1 (Conv2D)           (None, 247, 247, 32)      4640      \n",
      "                                                                 \n",
      " max_pooling2d_1 (MaxPooling  (None, 123, 123, 32)     0         \n",
      " 2D)                                                             \n",
      "                                                                 \n",
      " conv2d_2 (Conv2D)           (None, 121, 121, 64)      18496     \n",
      "                                                                 \n",
      " max_pooling2d_2 (MaxPooling  (None, 60, 60, 64)       0         \n",
      " 2D)                                                             \n",
      "                                                                 \n",
      " conv2d_3 (Conv2D)           (None, 58, 58, 128)       73856     \n",
      "                                                                 \n",
      " flatten (Flatten)           (None, 430592)            0         \n",
      "                                                                 \n",
      " dense (Dense)               (None, 64)                27557952  \n",
      "                                                                 \n",
      " dropout (Dropout)           (None, 64)                0         \n",
      "                                                                 \n",
      " dense_1 (Dense)             (None, 7)                 455       \n",
      "                                                                 \n",
      "=================================================================\n",
      "Total params: 27,655,847\n",
      "Trainable params: 27,655,847\n",
      "Non-trainable params: 0\n",
      "_________________________________________________________________\n"
     ]
    }
   ],
   "source": [
    "# 모델 요약 출력\n",
    "model9.summary()\n",
    "\n",
    "# 모델 컴파일\n",
    "model9.compile(optimizer='adam', loss='sparse_categorical_crossentropy', metrics=['accuracy'])"
   ]
  },
  {
   "cell_type": "code",
   "execution_count": 6,
   "id": "76380b03",
   "metadata": {},
   "outputs": [
    {
     "name": "stdout",
     "output_type": "stream",
     "text": [
      "Epoch 1/50\n"
     ]
    },
    {
     "name": "stderr",
     "output_type": "stream",
     "text": [
      "2024-12-02 06:27:42.973547: I tensorflow/compiler/xla/stream_executor/cuda/cuda_dnn.cc:428] Loaded cuDNN version 8801\n",
      "2024-12-02 06:27:43.228239: I tensorflow/compiler/xla/stream_executor/cuda/cuda_blas.cc:648] TensorFloat-32 will be used for the matrix multiplication. This will only be logged once.\n",
      "2024-12-02 06:27:43.291255: I tensorflow/compiler/xla/service/service.cc:173] XLA service 0x9143870 initialized for platform CUDA (this does not guarantee that XLA will be used). Devices:\n",
      "2024-12-02 06:27:43.291341: I tensorflow/compiler/xla/service/service.cc:181]   StreamExecutor device (0): CUDA GPU, Compute Capability 8.0\n",
      "2024-12-02 06:27:43.297581: I tensorflow/compiler/mlir/tensorflow/utils/dump_mlir_util.cc:268] disabling MLIR crash reproducer, set env var `MLIR_CRASH_REPRODUCER_DIRECTORY` to enable.\n",
      "2024-12-02 06:27:43.454129: I tensorflow/compiler/jit/xla_compilation_cache.cc:480] Compiled cluster using XLA!  This line is logged at most once for the lifetime of the process.\n"
     ]
    },
    {
     "name": "stdout",
     "output_type": "stream",
     "text": [
      "1458/1458 [==============================] - 111s 70ms/step - loss: 1.8810 - accuracy: 0.2439 - val_loss: 1.8479 - val_accuracy: 0.2606\n",
      "Epoch 2/50\n",
      "1458/1458 [==============================] - 99s 64ms/step - loss: 1.7616 - accuracy: 0.3165 - val_loss: 1.6447 - val_accuracy: 0.3594\n",
      "Epoch 3/50\n",
      "1458/1458 [==============================] - 99s 64ms/step - loss: 1.6264 - accuracy: 0.3756 - val_loss: 1.5372 - val_accuracy: 0.3992\n",
      "Epoch 4/50\n",
      "1458/1458 [==============================] - 99s 64ms/step - loss: 1.4866 - accuracy: 0.4362 - val_loss: 1.4863 - val_accuracy: 0.4300\n",
      "Epoch 5/50\n",
      "1458/1458 [==============================] - 99s 64ms/step - loss: 1.3490 - accuracy: 0.4928 - val_loss: 1.4675 - val_accuracy: 0.4434\n",
      "Epoch 6/50\n",
      "1458/1458 [==============================] - 99s 64ms/step - loss: 1.1458 - accuracy: 0.5730 - val_loss: 1.6108 - val_accuracy: 0.4359\n",
      "Epoch 7/50\n",
      "1458/1458 [==============================] - 103s 66ms/step - loss: 0.9384 - accuracy: 0.6519 - val_loss: 1.9282 - val_accuracy: 0.4462\n",
      "Epoch 8/50\n",
      "1458/1458 [==============================] - 100s 64ms/step - loss: 0.7405 - accuracy: 0.7306 - val_loss: 2.0014 - val_accuracy: 0.4290\n",
      "Epoch 9/50\n",
      "1458/1458 [==============================] - 100s 64ms/step - loss: 0.6084 - accuracy: 0.7762 - val_loss: 2.3977 - val_accuracy: 0.4290\n",
      "Epoch 10/50\n",
      "1458/1458 [==============================] - 109s 70ms/step - loss: 0.5116 - accuracy: 0.8105 - val_loss: 2.5507 - val_accuracy: 0.4311\n",
      "Epoch 11/50\n",
      "1458/1458 [==============================] - 101s 65ms/step - loss: 0.4636 - accuracy: 0.8319 - val_loss: 2.8577 - val_accuracy: 0.4191\n",
      "Epoch 12/50\n",
      "1458/1458 [==============================] - 100s 64ms/step - loss: 0.3914 - accuracy: 0.8587 - val_loss: 2.6948 - val_accuracy: 0.4372\n",
      "Epoch 13/50\n",
      "1458/1458 [==============================] - 100s 64ms/step - loss: 0.3646 - accuracy: 0.8687 - val_loss: 2.9669 - val_accuracy: 0.4252\n",
      "Epoch 14/50\n",
      "1458/1458 [==============================] - 106s 69ms/step - loss: 0.3356 - accuracy: 0.8781 - val_loss: 2.9252 - val_accuracy: 0.4215\n",
      "Epoch 15/50\n",
      "1458/1458 [==============================] - 103s 66ms/step - loss: 0.3088 - accuracy: 0.8886 - val_loss: 3.4146 - val_accuracy: 0.4263\n",
      "Epoch 16/50\n",
      "1458/1458 [==============================] - 100s 64ms/step - loss: 0.3021 - accuracy: 0.8927 - val_loss: 3.5757 - val_accuracy: 0.4321\n",
      "Epoch 17/50\n",
      "1458/1458 [==============================] - 104s 67ms/step - loss: 0.2851 - accuracy: 0.8958 - val_loss: 4.3864 - val_accuracy: 0.4283\n",
      "Epoch 18/50\n",
      "1458/1458 [==============================] - 105s 68ms/step - loss: 0.2778 - accuracy: 0.9032 - val_loss: 3.6923 - val_accuracy: 0.4273\n",
      "Epoch 19/50\n",
      "1458/1458 [==============================] - 103s 67ms/step - loss: 0.2679 - accuracy: 0.9028 - val_loss: 3.7823 - val_accuracy: 0.4143\n",
      "Epoch 20/50\n",
      "1458/1458 [==============================] - 104s 67ms/step - loss: 0.2474 - accuracy: 0.9117 - val_loss: 3.8864 - val_accuracy: 0.4294\n",
      "Epoch 21/50\n",
      "1458/1458 [==============================] - 104s 67ms/step - loss: 0.2335 - accuracy: 0.9156 - val_loss: 3.5559 - val_accuracy: 0.4304\n",
      "Epoch 22/50\n",
      "1458/1458 [==============================] - 104s 67ms/step - loss: 0.2517 - accuracy: 0.9132 - val_loss: 3.7585 - val_accuracy: 0.4311\n",
      "Epoch 23/50\n",
      "1458/1458 [==============================] - 105s 68ms/step - loss: 0.2339 - accuracy: 0.9208 - val_loss: 3.4764 - val_accuracy: 0.4263\n",
      "Epoch 24/50\n",
      "1458/1458 [==============================] - 103s 66ms/step - loss: 0.2301 - accuracy: 0.9216 - val_loss: 3.3699 - val_accuracy: 0.4187\n",
      "Epoch 25/50\n",
      "1458/1458 [==============================] - 105s 68ms/step - loss: 0.2223 - accuracy: 0.9222 - val_loss: 4.0215 - val_accuracy: 0.4321\n",
      "Epoch 26/50\n",
      "1458/1458 [==============================] - 106s 68ms/step - loss: 0.2144 - accuracy: 0.9262 - val_loss: 4.7054 - val_accuracy: 0.4242\n",
      "Epoch 27/50\n",
      "1458/1458 [==============================] - 105s 68ms/step - loss: 0.2331 - accuracy: 0.9222 - val_loss: 4.0864 - val_accuracy: 0.4280\n",
      "Epoch 28/50\n",
      "1458/1458 [==============================] - 104s 67ms/step - loss: 0.2001 - accuracy: 0.9302 - val_loss: 4.4488 - val_accuracy: 0.4170\n",
      "Epoch 29/50\n",
      "1458/1458 [==============================] - 106s 68ms/step - loss: 0.2037 - accuracy: 0.9283 - val_loss: 4.9397 - val_accuracy: 0.4177\n",
      "Epoch 30/50\n",
      "1458/1458 [==============================] - 103s 66ms/step - loss: 0.1913 - accuracy: 0.9337 - val_loss: 3.4750 - val_accuracy: 0.4033\n",
      "Epoch 31/50\n",
      "1458/1458 [==============================] - 104s 67ms/step - loss: 0.2090 - accuracy: 0.9287 - val_loss: 4.6349 - val_accuracy: 0.4167\n",
      "Epoch 32/50\n",
      "1458/1458 [==============================] - 104s 67ms/step - loss: 0.1875 - accuracy: 0.9368 - val_loss: 3.9643 - val_accuracy: 0.4252\n",
      "Epoch 33/50\n",
      "1458/1458 [==============================] - 104s 67ms/step - loss: 0.1820 - accuracy: 0.9371 - val_loss: 4.9455 - val_accuracy: 0.4194\n",
      "Epoch 34/50\n",
      "1458/1458 [==============================] - 104s 67ms/step - loss: 0.1890 - accuracy: 0.9348 - val_loss: 4.7366 - val_accuracy: 0.4160\n",
      "Epoch 35/50\n",
      "1458/1458 [==============================] - 103s 66ms/step - loss: 0.1710 - accuracy: 0.9403 - val_loss: 4.4256 - val_accuracy: 0.4184\n",
      "Epoch 37/50\n",
      "1458/1458 [==============================] - 104s 67ms/step - loss: 0.1787 - accuracy: 0.9380 - val_loss: 4.0999 - val_accuracy: 0.4232\n",
      "Epoch 38/50\n",
      "1458/1458 [==============================] - 104s 67ms/step - loss: 0.1739 - accuracy: 0.9407 - val_loss: 4.3452 - val_accuracy: 0.4153\n",
      "Epoch 39/50\n",
      "1458/1458 [==============================] - 104s 67ms/step - loss: 0.1783 - accuracy: 0.9399 - val_loss: 4.3770 - val_accuracy: 0.4119\n",
      "Epoch 40/50\n",
      "1458/1458 [==============================] - 105s 68ms/step - loss: 0.1760 - accuracy: 0.9411 - val_loss: 4.1101 - val_accuracy: 0.4115\n",
      "Epoch 41/50\n",
      "1458/1458 [==============================] - 105s 68ms/step - loss: 0.1720 - accuracy: 0.9374 - val_loss: 5.1240 - val_accuracy: 0.4266\n",
      "Epoch 42/50\n",
      "1458/1458 [==============================] - 104s 67ms/step - loss: 0.1753 - accuracy: 0.9444 - val_loss: 4.4457 - val_accuracy: 0.4119\n",
      "Epoch 43/50\n",
      "1458/1458 [==============================] - 106s 68ms/step - loss: 0.1791 - accuracy: 0.9418 - val_loss: 5.2408 - val_accuracy: 0.4208\n",
      "Epoch 44/50\n",
      "1458/1458 [==============================] - 104s 67ms/step - loss: 0.1587 - accuracy: 0.9473 - val_loss: 5.1539 - val_accuracy: 0.4112\n",
      "Epoch 45/50\n",
      "1458/1458 [==============================] - 104s 67ms/step - loss: 0.1763 - accuracy: 0.9401 - val_loss: 5.6896 - val_accuracy: 0.3992\n",
      "Epoch 46/50\n",
      "1458/1458 [==============================] - 104s 67ms/step - loss: 0.1480 - accuracy: 0.9473 - val_loss: 5.8234 - val_accuracy: 0.4167\n",
      "Epoch 47/50\n",
      "1458/1458 [==============================] - 106s 68ms/step - loss: 0.1694 - accuracy: 0.9424 - val_loss: 5.4593 - val_accuracy: 0.4122\n",
      "Epoch 48/50\n",
      "1458/1458 [==============================] - 103s 67ms/step - loss: 0.1572 - accuracy: 0.9454 - val_loss: 5.2154 - val_accuracy: 0.4078\n",
      "Epoch 49/50\n",
      "1458/1458 [==============================] - 105s 67ms/step - loss: 0.1588 - accuracy: 0.9459 - val_loss: 5.2886 - val_accuracy: 0.3961\n",
      "Epoch 50/50\n",
      "1458/1458 [==============================] - 104s 67ms/step - loss: 0.1597 - accuracy: 0.9457 - val_loss: 5.5632 - val_accuracy: 0.4115\n"
     ]
    }
   ],
   "source": [
    "result9 = model9.fit(train_dataset, validation_data=test_dataset, epochs=50)"
   ]
  },
  {
   "cell_type": "code",
   "execution_count": 8,
   "id": "505ede5f",
   "metadata": {},
   "outputs": [
    {
     "name": "stdout",
     "output_type": "stream",
     "text": [
      "365/365 [==============================] - 19s 37ms/step - loss: 5.5632 - accuracy: 0.4115\n",
      "[5.563217639923096, 0.41152262687683105]\n"
     ]
    }
   ],
   "source": [
    "score9 = model9.evaluate(test_dataset)\n"
   ]
  },
  {
   "cell_type": "code",
   "execution_count": 9,
   "id": "a08d643c",
   "metadata": {},
   "outputs": [
    {
     "name": "stdout",
     "output_type": "stream",
     "text": [
      "[5.563217639923096, 0.41152262687683105]\n"
     ]
    }
   ],
   "source": [
    "print(score9)"
   ]
  },
  {
   "cell_type": "code",
   "execution_count": 10,
   "id": "03538926",
   "metadata": {},
   "outputs": [
    {
     "data": {
      "image/png": "[encoded data removed]",
      "text/plain": [
       "<Figure size 640x480 with 1 Axes>"
      ]
     },
     "metadata": {},
     "output_type": "display_data"
    },
    {
     "data": {
      "image/png": "[encoded data removed]",
      "text/plain": [
       "<Figure size 640x480 with 1 Axes>"
      ]
     },
     "metadata": {},
     "output_type": "display_data"
    }
   ],
   "source": [
    "import matplotlib.pyplot as plt\n",
    "\n",
    "acc9 = result9.history['accuracy']\n",
    "val_acc9 = result9.history['val_accuracy']\n",
    "loss9 = result9.history['loss']\n",
    "val_loss9 = result9.history['val_loss']\n",
    "epochs9 = range(1, len(acc9) + 1)\n",
    "\n",
    "plt.plot(epochs9, acc9, 'bo', label='Training accuracy')\n",
    "plt.plot(epochs9, val_acc9, 'b', label='Validation accuracy')\n",
    "plt.title('Training and validation accuracy')\n",
    "plt.legend()\n",
    "plt.figure()\n",
    "\n",
    "plt.plot(epochs9, loss9, 'bo', label='Training loss')\n",
    "plt.plot(epochs9, val_loss9, 'b', label='Validation loss')\n",
    "plt.title('Training and validation loss')\n",
    "plt.legend()\n",
    "plt.show()\n",
    "\n",
    "# # 그림에서도"
   ]
  },
  {
   "cell_type": "code",
   "execution_count": null,
   "id": "7275ac35",
   "metadata": {},
   "outputs": [],
   "source": []
  }
 ],
 "metadata": {
  "kernelspec": {
   "display_name": "Python 3.8 (NGC 23.03 / TensorFlow 2.11) on Backend.AI",
   "language": "python",
   "name": "python3"
  },
  "language_info": {
   "codemirror_mode": {
    "name": "ipython",
    "version": 3
   },
   "file_extension": ".py",
   "mimetype": "text/x-python",
   "name": "python",
   "nbconvert_exporter": "python",
   "pygments_lexer": "ipython3",
   "version": "3.8.10"
  }
 },
 "nbformat": 4,
 "nbformat_minor": 5
}
